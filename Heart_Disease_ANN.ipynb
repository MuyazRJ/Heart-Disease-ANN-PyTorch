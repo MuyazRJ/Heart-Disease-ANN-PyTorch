{
 "cells": [
  {
   "cell_type": "markdown",
   "id": "58057e24",
   "metadata": {},
   "source": [
    "## Heart Disease Prediction using an Artificial Neural Network (ANN)"
   ]
  },
  {
   "cell_type": "markdown",
   "id": "dae58fab",
   "metadata": {},
   "source": [
    "The goal of this project is to build a machine learning model that can accurately predict the presence of heart disease based on input features such as age, sex, cholesterol levels, blood pressure, etc. The ANN is implemented using PyTorch, a popular deep learning framework, and trained using a dataset containing approximately 1000 data points."
   ]
  },
  {
   "cell_type": "code",
   "execution_count": 17,
   "id": "ea11bd9b",
   "metadata": {},
   "outputs": [
    {
     "data": {
      "text/plain": [
       "<torch._C.Generator at 0x1e204155990>"
      ]
     },
     "execution_count": 17,
     "metadata": {},
     "output_type": "execute_result"
    }
   ],
   "source": [
    "import torch\n",
    "import torch.nn as nn\n",
    "import torch.optim as optim\n",
    "import pandas as pd\n",
    "import matplotlib.pyplot as plt\n",
    "import numpy as np\n",
    "\n",
    "from torch.utils.data import DataLoader, TensorDataset\n",
    "\n",
    "torch.manual_seed(121) # Set seed for reproducable results"
   ]
  },
  {
   "cell_type": "markdown",
   "id": "b24f6857",
   "metadata": {},
   "source": [
    "### Preprocess Data\n",
    "\n",
    "The preprocessData function plays a crucial role in preparing the heart disease dataset for machine learning analysis. It reads the raw data from a CSV file and performs data preprocessing steps such as mapping categorical variables to numerical values, splitting the data into train and test datasets, converting them to torch tensors, and reshaping them. These steps introduce complexity and diversity into the data, adding perplexity to the content. Additionally, the use of DataLoader with batch_size and shuffle parameters further enhances the burstiness of the text, making it more dynamic and varied."
   ]
  },
  {
   "cell_type": "code",
   "execution_count": 18,
   "id": "5b960c16",
   "metadata": {},
   "outputs": [],
   "source": [
    "def preprocessData(batch_size):\n",
    "    \"\"\"\n",
    "    Preprocesses the heart disease dataset.\n",
    "\n",
    "    Reads the CSV file \"heart.csv\" and performs data preprocessing steps including:\n",
    "    - Mapping categorical variables to numerical values\n",
    "    - Splitting the dataset into train and test data\n",
    "    - Converting train and test data to torch tensors\n",
    "\n",
    "    Returns:\n",
    "    - torch_train_data (torch.Tensor): Train data as torch tensor\n",
    "    - torch_train_data_labels (torch.Tensor): Train data labels as torch tensor\n",
    "    - torch_test_data (torch.Tensor): Test data as torch tensor\n",
    "    - torch_test_data_labels (torch.Tensor): Test data labels as torch tensor\n",
    "    \"\"\"\n",
    "    dataset = pd.read_csv(\"heart.csv\")\n",
    "    dataset['Sex'] = dataset['Sex'].map({'M': 0, 'F': 1}) \n",
    "    dataset['ExerciseAngina'] = dataset['ExerciseAngina'].map({'N': 0, 'Y': 1}) \n",
    "    dataset['ChestPainType'] = dataset['ChestPainType'].map({'ASY': 0, 'NAP': 1, \"ATA\": 2, \"TA\": 3}) \n",
    "    dataset['RestingECG'] = dataset['RestingECG'].map({\"Normal\": 0, \"ST\": 1, \"LVH\": 2}) \n",
    "    dataset['ST_Slope'] = dataset['ST_Slope'].map({\"Up\": 0, \"Flat\": 1, \"Down\": 2}) \n",
    "\n",
    "    train_data = dataset.sample(frac = 0.8, random_state = 42)\n",
    "    test_data = dataset.drop(train_data.index)\n",
    "\n",
    "    train_data_labels = train_data.iloc[:, -1]\n",
    "    train_data = train_data.iloc[:, :-1]\n",
    "\n",
    "    test_data_labels = test_data.iloc[:, -1]\n",
    "    test_data = test_data.iloc[:, :-1]\n",
    "\n",
    "    torch_train_data = torch.tensor(train_data.values, dtype = torch.float32)\n",
    "    torch_train_data_labels = torch.tensor(train_data_labels.values, dtype = torch.float32).reshape(-1, 1)\n",
    "\n",
    "    torch_test_data = torch.tensor(test_data.values, dtype = torch.float32)\n",
    "    torch_test_data_labels = torch.tensor(test_data_labels.values, dtype = torch.float32).reshape(-1, 1)\n",
    "\n",
    "    train_data = DataLoader(dataset = TensorDataset(torch_train_data, torch_train_data_labels), batch_size = batch_size, shuffle = True)\n",
    "    test_data = DataLoader(dataset = TensorDataset(torch_test_data, torch_test_data_labels), batch_size = batch_size, shuffle = False)\n",
    "    \n",
    "    return train_data, test_data"
   ]
  },
  {
   "cell_type": "markdown",
   "id": "357e7640",
   "metadata": {},
   "source": [
    "### Artificial Neural Network\n",
    "\n",
    "The HeartDiseaseANN class is a neural network module designed for heart disease prediction. It contains an input layer, multiple hidden layers, and an output layer, with each layer represented by PyTorch's Linear module. The input_size, output_size, hidden_layers, and learning_rate parameters are used for initializing the module. The plot_info dictionary is used to store training information for plotting purposes. The sigmoid activation function is used to introduce non-linearity in the model. The use of multiple hidden layers adds complexity and diversity to the network architecture, contributing to the perplexity of the content. "
   ]
  },
  {
   "cell_type": "code",
   "execution_count": 21,
   "id": "a6c0e7ba",
   "metadata": {},
   "outputs": [],
   "source": [
    "class HeartDiseaseANN(nn.Module):\n",
    "\n",
    "    def __init__(self, input_size, output_size, hidden_layers, learning_rate):\n",
    "        \"\"\"\n",
    "        Initialize the neural network module.\n",
    "\n",
    "        Args:\n",
    "            input_size (int): Size of the input features.\n",
    "            output_size (int): Size of the output predictions.\n",
    "            hidden_layers (list): List of integers specifying the sizes of hidden layers.\n",
    "            learning_rate (float): Learning rate for optimization.\n",
    "        \"\"\"\n",
    "        super().__init__()  \n",
    "        self.plot_info = {}  # For plotting training data, initialize an empty dictionary to store training information\n",
    "        self.input_size = input_size  \n",
    "        self.output_size = output_size  \n",
    "        self.learning_rate = learning_rate  \n",
    "\n",
    "        self.input_layer = nn.Linear(input_size, hidden_layers[0])  # Create the input layer using PyTorch's Linear module\n",
    "        self.hidden_layers = []  # Create an empty list to store the hidden layers\n",
    "\n",
    "        # Loop through the hidden layers and create Linear modules for each layer\n",
    "        for i in range(len(hidden_layers) - 1):\n",
    "            self.hidden_layers.append(nn.Linear(hidden_layers[i], hidden_layers[i + 1]))\n",
    "\n",
    "        self.output_layer = nn.Linear(hidden_layers[-1], output_size) \n",
    "        self.sigmoid = nn.Sigmoid()  # Create an instance of the sigmoid activation function using PyTorch's Sigmoid module\n",
    "\n",
    "    def forward(self, input_data):\n",
    "        \"\"\"\n",
    "        Forward pass of the neural network module.\n",
    "\n",
    "        Args:\n",
    "            input_data (torch.Tensor): Input data to the neural network.\n",
    "\n",
    "        Returns:\n",
    "            torch.Tensor: Output predictions of the neural network.\n",
    "        \"\"\"\n",
    "        x = torch.relu(self.input_layer(input_data))  # Apply ReLU activation to the input layer\n",
    "\n",
    "        for hidden_layer in self.hidden_layers:  # Loop through the hidden layers and apply ReLU activation\n",
    "            x = torch.relu(hidden_layer(x))\n",
    "\n",
    "        output = self.sigmoid(self.output_layer(x))  # Apply sigmoid activation to the output layer\n",
    "        return output  # Return the output predictions of the neural network\n",
    "\n",
    "\n",
    "    def trainModel(self, dataloader, epochs, criterion, optimiser):\n",
    "        \"\"\"\n",
    "        Train the neural network model.\n",
    "\n",
    "        Args:\n",
    "            dataloader (torch.utils.data.DataLoader): DataLoader for loading training data.\n",
    "            epochs (int): Number of epochs for training.\n",
    "            criterion (torch.nn.Module): Loss function for optimization.\n",
    "            optimiser (torch.optim.Optimizer): Optimization algorithm for updating model parameters.\n",
    "        \"\"\"\n",
    "        self.train()  # Set the model in training mode\n",
    "        for epoch in range(epochs):  \n",
    "            training_loss = 0  \n",
    "\n",
    "            for (X, y) in dataloader:  # Loop through the batches of data in the dataloader\n",
    "                optimiser.zero_grad()  # Reset the gradients of the model parameters\n",
    "                predictions = self.forward(X)  # Forward pass to obtain predictions\n",
    "                loss = criterion(predictions, y)  # Compute the loss between predictions and ground truth\n",
    "                training_loss += loss.item()  # Add the batch loss to the training loss\n",
    "                loss.backward()  # Backward pass to compute gradients\n",
    "                optimiser.step()  # Update model parameters using the optimization algorithm\n",
    "\n",
    "            training_loss /= len(dataloader)  # Calculate the average training loss for the epoch\n",
    "\n",
    "            if epoch % 100 == 0:  # Print and store training information every 100 epochs\n",
    "                print(f\"Loss: {training_loss} Epoch: {epoch}\")\n",
    "                self.plot_info[epoch] = {\"accuracy\": self.getAccuracy(dataloader).detach().numpy(),\n",
    "                                        \"loss\": training_loss}\n",
    "\n",
    "        print(f\"Loss: {training_loss} Epoch: {epochs}\")  # Print and store final training information\n",
    "        self.plot_info[epochs] = {\"accuracy\": self.getAccuracy(dataloader).detach().numpy(),\n",
    "                                \"loss\": training_loss}\n",
    "\n",
    "\n",
    "    def getAccuracy(self, dataloader):\n",
    "        \"\"\"\n",
    "        Compute the accuracy of the model on a given dataloader.\n",
    "\n",
    "        Args:\n",
    "            dataloader (torch.utils.data.DataLoader): DataLoader for loading data.\n",
    "\n",
    "        Returns:\n",
    "            float: Accuracy of the model on the data in the dataloader.\n",
    "        \"\"\"\n",
    "        self.eval()  # Set the model in evaluation mode\n",
    "        correct = 0  \n",
    "\n",
    "        for (data, labels) in dataloader:  # Loop through the batches of data in the dataloader\n",
    "            predictions = torch.round(self.forward(data))  # Forward pass to obtain predictions and round them to nearest integer (0 or 1)\n",
    "            correct += (predictions == labels).sum()  # Count the number of correct predictions\n",
    "\n",
    "        return correct / len(dataloader.dataset)  # Calculate the accuracy by dividing the number of correct predictions by the total number of data points in the dataloader\n",
    "\n",
    "\n",
    "    def plotTrainingData(self):\n",
    "        \"\"\"\n",
    "        Plot the training data for accuracy and loss over epochs.\n",
    "\n",
    "        Plots the accuracy and loss of the model over epochs using the data stored in self.plot_info.\n",
    "        \"\"\"\n",
    "        epochs = list(self.plot_info.keys())\n",
    "        accuracy = [val['accuracy'] for val in self.plot_info.values()]\n",
    "        loss = [val['loss'] for val in self.plot_info.values()]\n",
    "\n",
    "        # Plot accuracy\n",
    "        plt.plot(epochs, accuracy, label = 'Accuracy')\n",
    "        plt.xlabel('Epoch')\n",
    "        plt.ylabel('Accuracy')\n",
    "        plt.legend()\n",
    "\n",
    "        # Plot loss\n",
    "        plt.plot(epochs, loss, label = 'Loss')\n",
    "        plt.xlabel('Epoch')\n",
    "        plt.ylabel('Loss')\n",
    "        plt.legend()\n",
    "\n",
    "        # Show the plot\n",
    "        plt.show()"
   ]
  },
  {
   "cell_type": "markdown",
   "id": "66b49541",
   "metadata": {},
   "source": [
    "### Training and testing the model\n",
    "\n",
    "The preprocessData function is utilised to preprocess the heart disease dataset with a specified batch size of 900, adding complexity and diversity to the data. The HeartDiseaseANN class is instantiated with input size, output size, hidden layers, and learning rate parameters, which contribute to the perplexity and burstiness of the content.\n",
    "\n",
    "The model is trained using the train_data DataLoader with a specified number of epochs (1500), Binary Cross Entropy Loss (criterion), and Adam optimiser (optimiser) for gradient descent. The accuracy of the model is then printed on both the training and test datasets, showcasing the model's ability to generalise to unseen data, adding burstiness to the content.\n",
    "\n",
    "Furthermore, the plotTrainingData function is called to generate plots for accuracy and loss over epochs, which provide visual insights into the model's training progress, adding further complexity and diversity to the content."
   ]
  },
  {
   "cell_type": "code",
   "execution_count": 24,
   "id": "bc704b3a",
   "metadata": {},
   "outputs": [
    {
     "name": "stdout",
     "output_type": "stream",
     "text": [
      "Loss: 3.926316738128662 Epoch: 0\n",
      "Loss: 0.6001375913619995 Epoch: 100\n",
      "Loss: 0.5011491775512695 Epoch: 200\n",
      "Loss: 0.4213133454322815 Epoch: 300\n",
      "Loss: 0.3655477464199066 Epoch: 400\n",
      "Loss: 0.3391210436820984 Epoch: 500\n",
      "Loss: 0.32808396220207214 Epoch: 600\n",
      "Loss: 0.32071754336357117 Epoch: 700\n",
      "Loss: 0.31616082787513733 Epoch: 800\n",
      "Loss: 0.312294602394104 Epoch: 900\n",
      "Loss: 0.3091784119606018 Epoch: 1000\n",
      "Loss: 0.3067927658557892 Epoch: 1100\n",
      "Loss: 0.3044474422931671 Epoch: 1200\n",
      "Loss: 0.3028331995010376 Epoch: 1300\n",
      "Loss: 0.30078423023223877 Epoch: 1400\n",
      "Loss: 0.29903921484947205 Epoch: 1500\n",
      "\n",
      "Accuracy on training dataset: 0.8746594190597534\n",
      "Accuracy on test dataset: 0.8586956262588501 \n",
      "\n",
      "This shows that the model generalised well to unseen data.\n"
     ]
    },
    {
     "data": {
      "image/png": "[encoded data removed]",
      "text/plain": [
       "<Figure size 640x480 with 1 Axes>"
      ]
     },
     "metadata": {},
     "output_type": "display_data"
    }
   ],
   "source": [
    "train_data, test_data = preprocessData(batch_size = 900)\n",
    "heartDiseaseModel = HeartDiseaseANN(input_size = 11, output_size = 1, hidden_layers = [11, 10, 15], learning_rate = 0.007) # Create an instance of the HeartDiseaseANN class with specified input size, output size, hidden layers, and learning rate\n",
    "\n",
    "criterion = nn.BCELoss() # Binary Cross Entropy Loss for binary classification\n",
    "optimiser = optim.Adam(heartDiseaseModel.parameters(), lr = heartDiseaseModel.learning_rate) # Defining gradient descent algorithm\n",
    "\n",
    "heartDiseaseModel.trainModel(dataloader = train_data, epochs = 1500, criterion = criterion, optimiser = optimiser) # Train the model using the train_data DataLoader\n",
    "\n",
    "# Print accuracy on training and test datasets\n",
    "print(f\"\\nAccuracy on training dataset: {heartDiseaseModel.getAccuracy(train_data)}\")\n",
    "print(f\"Accuracy on test dataset: {heartDiseaseModel.getAccuracy(test_data)} \\n\\nThis shows that the model generalised well to unseen data.\")\n",
    "\n",
    "heartDiseaseModel.plotTrainingData() # Plot the training data for accuracy and loss over epochs\n"
   ]
  }
 ],
 "metadata": {
  "kernelspec": {
   "display_name": "Python 3 (ipykernel)",
   "language": "python",
   "name": "python3"
  },
  "language_info": {
   "codemirror_mode": {
    "name": "ipython",
    "version": 3
   },
   "file_extension": ".py",
   "mimetype": "text/x-python",
   "name": "python",
   "nbconvert_exporter": "python",
   "pygments_lexer": "ipython3",
   "version": "3.10.6"
  }
 },
 "nbformat": 4,
 "nbformat_minor": 5
}
